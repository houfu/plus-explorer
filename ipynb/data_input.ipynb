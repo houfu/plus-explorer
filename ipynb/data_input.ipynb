{
 "cells": [
  {
   "cell_type": "markdown",
   "metadata": {
    "collapsed": true,
    "pycharm": {
     "name": "#%% md\n"
    }
   },
   "source": [
    "# Welcome to Plus Explorer Data Input\n",
    "\n",
    "This notebook is a utility for me to quickly compile a dataset for analysis.\n",
    "\n",
    "If you were looking for the data explorer, you are probably looking for this notebook.\n",
    "\n",
    "Related Blog post: [*Insert blog post address*]"
   ]
  },
  {
   "cell_type": "code",
   "execution_count": 6,
   "metadata": {
    "pycharm": {
     "name": "#%%\n"
    }
   },
   "outputs": [
    {
     "data": {
      "application/vnd.jupyter.widget-view+json": {
       "model_id": "b54c9d5446bc400ca49299dbaf84e915",
       "version_major": 2,
       "version_minor": 0
      },
      "text/plain": [
       "Button(description='Load Data', icon='Load', style=ButtonStyle())"
      ]
     },
     "metadata": {},
     "output_type": "display_data"
    }
   ],
   "source": [
    "import pandas as pd\n",
    "\n",
    "dataframe = pd.DataFrame(columns=['act_name',\n",
    "                                  'previous', 'previous_link',\n",
    "                                  'previous_len', 'previous_flesch_reading_ease', 'previous_gunning_fog',\n",
    "                                  'previous_ari', 'previous_sentence_count', 'previous_lexicon_count',\n",
    "                                  'current', 'current_link',\n",
    "                                  'current_len', 'current_flesch_kincaid_grade', 'current_gunning_fog', 'current_ari',\n",
    "                                  'current_sentence_count', 'current_lexicon_count',\n",
    "                                  ])\n",
    "\n",
    "import ipywidgets as widgets\n",
    "load_button = widgets.Button(description='Load Data', icon='Load')\n",
    "\n",
    "def load_data(b):\n",
    "    global dataframe\n",
    "    dataframe = pd.read_csv(\"../data.csv.gz\")\n",
    "\n",
    "load_button.on_click(load_data)\n",
    "\n",
    "\n",
    "load_button"
   ]
  },
  {
   "cell_type": "code",
   "execution_count": 7,
   "metadata": {
    "pycharm": {
     "name": "#%%\n"
    }
   },
   "outputs": [
    {
     "data": {
      "application/vnd.jupyter.widget-view+json": {
       "model_id": "1c56e150162141ce86b0c99ec4600d6e",
       "version_major": 2,
       "version_minor": 0
      },
      "text/plain": [
       "VBox(children=(Text(value='', description='Current name of Act'), TwoByTwoLayout(children=(Textarea(value='', …"
      ]
     },
     "metadata": {},
     "output_type": "display_data"
    }
   ],
   "source": [
    "import ipywidgets as widgets\n",
    "from ipywidgets import TwoByTwoLayout\n",
    "\n",
    "act_name = widgets.Text(description='Current name of Act')\n",
    "\n",
    "previous = widgets.Textarea(\n",
    "    placeholder='Cut and paste previous version of provision',\n",
    "    description='Pre 2020 Version'\n",
    ")\n",
    "current = widgets.Textarea(\n",
    "    placeholder='Cut and paste current version of provision',\n",
    "    description='2020 Version'\n",
    ")\n",
    "previous_link = widgets.Text(\n",
    "    placeholder='Link to Pre 2020 Version'\n",
    ")\n",
    "current_link = widgets.Text(\n",
    "    placeholder='Link to 2020 Version'\n",
    ")\n",
    "\n",
    "add_button = widgets.Button(description='Submit', icon='plus')\n",
    "\n",
    "output = widgets.Output(layout={'border': '1px solid black'})\n",
    "output_diff = widgets.Output(layout={'border': '1px solid black'})\n",
    "\n",
    "\n",
    "def validate_output():\n",
    "    if previous.value and previous_link.value and current.value and current_link.value:\n",
    "        return True\n",
    "    else:\n",
    "        with output:\n",
    "            print('All fields are required.')\n",
    "        return False\n",
    "\n",
    "\n",
    "def on_clicked(b):\n",
    "    output.clear_output()\n",
    "    output_diff.clear_output()\n",
    "    if validate_output():\n",
    "        from helpers import clean_text, calculate_stats\n",
    "        output.append_stdout(f'Processing: {act_name.value} \\n')\n",
    "        previous_stat = calculate_stats(clean_text(previous.value))\n",
    "        output.append_stdout(\n",
    "            f'Previous: {previous_stat[0]} \\n ({previous_stat[1]},{previous_stat[2]},{previous_stat[3]},{previous_stat[4]},{previous_stat[5]}) \\n')\n",
    "        current_stat = calculate_stats(clean_text(current.value))\n",
    "        output.append_stdout(\n",
    "            f'Current: {current_stat[0]} \\n ({current_stat[1]}, {current_stat[2]}, {current_stat[3]}, {current_stat[4]}, {current_stat[5]} ) \\n')\n",
    "\n",
    "        dataframe.loc[len(dataframe.index)] = [\n",
    "            act_name.value,\n",
    "            previous_stat[0], previous_link.value,\n",
    "            len(previous_stat[0]), previous_stat[1], previous_stat[2], previous_stat[3], previous_stat[4],\n",
    "            previous_stat[5],\n",
    "            current_stat[0], current_link.value,\n",
    "            len(current_stat[0]), current_stat[1], current_stat[2], current_stat[3], current_stat[4], current_stat[5]\n",
    "        ]\n",
    "\n",
    "        from IPython.display import display_markdown\n",
    "        from helpers import Redlines\n",
    "        diff = Redlines(previous_stat[0], current_stat[0])\n",
    "        with output_diff:\n",
    "            display_markdown(diff.output_markdown, raw=True)\n",
    "\n",
    "        output.append_stdout(f'Current number of records: {len(dataframe.index)} \\n')\n",
    "        previous.value = ''\n",
    "        current.value = ''\n",
    "        current_link.value = ''\n",
    "        previous_link.value = ''\n",
    "\n",
    "\n",
    "add_button.on_click(on_clicked)\n",
    "\n",
    "widgets.VBox([\n",
    "    act_name,\n",
    "    TwoByTwoLayout(top_left=previous, top_right=current, bottom_left=previous_link, bottom_right=current_link,\n",
    "                   width=\"50%\"),\n",
    "    add_button,\n",
    "    output,\n",
    "    output_diff\n",
    "])"
   ]
  },
  {
   "cell_type": "code",
   "execution_count": 9,
   "metadata": {
    "pycharm": {
     "name": "#%%\n"
    }
   },
   "outputs": [
    {
     "data": {
      "application/vnd.jupyter.widget-view+json": {
       "model_id": "7677a64faede4746806bf6a6ffce0b6b",
       "version_major": 2,
       "version_minor": 0
      },
      "text/plain": [
       "VBox(children=(Button(description='Download Data', icon='file', style=ButtonStyle()), Output()))"
      ]
     },
     "metadata": {},
     "output_type": "display_data"
    }
   ],
   "source": [
    "import ipywidgets as widgets\n",
    "\n",
    "\n",
    "def on_file_clicked(b):\n",
    "    dataframe.to_csv(\"data.csv.gz\", compression=\"gzip\", index=False)\n",
    "    with file_output:\n",
    "        from IPython.display import display, FileLink\n",
    "        display(FileLink(\"../data.csv.gz\"))\n",
    "\n",
    "\n",
    "file_button = widgets.Button(description='Download Data', icon='file')\n",
    "file_button.on_click(on_file_clicked)\n",
    "file_output = widgets.Output()\n",
    "\n",
    "widgets.VBox([\n",
    "    file_button,\n",
    "    file_output\n",
    "])"
   ]
  },
  {
   "cell_type": "code",
   "execution_count": 3,
   "metadata": {},
   "outputs": [],
   "source": []
  }
 ],
 "metadata": {
  "kernelspec": {
   "display_name": "Python 3 (ipykernel)",
   "language": "python",
   "name": "python3"
  },
  "language_info": {
   "codemirror_mode": {
    "name": "ipython",
    "version": 3
   },
   "file_extension": ".py",
   "mimetype": "text/x-python",
   "name": "python",
   "nbconvert_exporter": "python",
   "pygments_lexer": "ipython3",
   "version": "3.9.9"
  }
 },
 "nbformat": 4,
 "nbformat_minor": 1
}