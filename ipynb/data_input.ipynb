{
 "cells": [
  {
   "cell_type": "markdown",
   "metadata": {
    "collapsed": true,
    "pycharm": {
     "name": "#%% md\n"
    }
   },
   "source": [
    "# Welcome to Plus Explorer Data Input\n",
    "\n",
    "This notebook is a utility for me to quickly compile a dataset for analysis.\n",
    "\n",
    "If you were looking for the data explorer, you are probably looking for this notebook.\n",
    "\n",
    "Related Blog post: [*Insert blog post address*]"
   ]
  },
  {
   "cell_type": "code",
   "execution_count": 4,
   "metadata": {
    "pycharm": {
     "name": "#%%\n"
    }
   },
   "outputs": [
    {
     "data": {
      "application/vnd.jupyter.widget-view+json": {
       "model_id": "7adfb87102084f7686e477461ab17a45",
       "version_major": 2,
       "version_minor": 0
      },
      "text/plain": [
       "Button(description='Load Data', icon='Load', style=ButtonStyle())"
      ]
     },
     "metadata": {},
     "output_type": "display_data"
    }
   ],
   "source": [
    "import pandas as pd\n",
    "\n",
    "dataframe = pd.DataFrame(columns=['act_name',\n",
    "                                  'previous', 'previous_link',\n",
    "                                  'previous_len', 'previous_flesch_reading_ease', 'previous_gunning_fog',\n",
    "                                  'previous_ari', 'previous_sentence_count', 'previous_lexicon_count',\n",
    "                                  'current', 'current_link',\n",
    "                                  'current_len', 'current_flesch_kincaid_grade', 'current_gunning_fog', 'current_ari',\n",
    "                                  'current_sentence_count', 'current_lexicon_count',\n",
    "                                  ])\n",
    "\n",
    "import ipywidgets as widgets\n",
    "load_button = widgets.Button(description='Load Data', icon='Load')\n",
    "\n",
    "def load_data(b):\n",
    "    global dataframe\n",
    "    dataframe = pd.read_csv(\"../data.csv.gz\")\n",
    "\n",
    "load_button.on_click(load_data)\n",
    "\n",
    "\n",
    "load_button"
   ]
  },
  {
   "cell_type": "markdown",
   "metadata": {},
   "source": []
  },
  {
   "cell_type": "code",
   "execution_count": 5,
   "metadata": {
    "pycharm": {
     "name": "#%%\n"
    }
   },
   "outputs": [
    {
     "data": {
      "application/vnd.jupyter.widget-view+json": {
       "model_id": "f232be7be7124571864584c9b3a1c67a",
       "version_major": 2,
       "version_minor": 0
      },
      "text/plain": [
       "VBox(children=(Text(value='', description='Current name of Act'), TwoByTwoLayout(children=(Textarea(value='', …"
      ]
     },
     "metadata": {},
     "output_type": "display_data"
    },
    {
     "ename": "ModuleNotFoundError",
     "evalue": "No module named 'textstat'",
     "output_type": "error",
     "traceback": [
      "\u001B[0;31m---------------------------------------------------------------------------\u001B[0m",
      "\u001B[0;31mModuleNotFoundError\u001B[0m                       Traceback (most recent call last)",
      "Input \u001B[0;32mIn [5]\u001B[0m, in \u001B[0;36mon_clicked\u001B[0;34m(b)\u001B[0m\n\u001B[1;32m     40\u001B[0m \u001B[38;5;28;01mfrom\u001B[39;00m \u001B[38;5;21;01mhelpers\u001B[39;00m \u001B[38;5;28;01mimport\u001B[39;00m clean_text, calculate_stats\n\u001B[1;32m     41\u001B[0m output\u001B[38;5;241m.\u001B[39mappend_stdout(\u001B[38;5;124mf\u001B[39m\u001B[38;5;124m'\u001B[39m\u001B[38;5;124mProcessing: \u001B[39m\u001B[38;5;132;01m{\u001B[39;00mact_name\u001B[38;5;241m.\u001B[39mvalue\u001B[38;5;132;01m}\u001B[39;00m\u001B[38;5;124m \u001B[39m\u001B[38;5;130;01m\\n\u001B[39;00m\u001B[38;5;124m'\u001B[39m)\n\u001B[0;32m---> 42\u001B[0m previous_stat \u001B[38;5;241m=\u001B[39m \u001B[43mcalculate_stats\u001B[49m\u001B[43m(\u001B[49m\u001B[43mclean_text\u001B[49m\u001B[43m(\u001B[49m\u001B[43mprevious\u001B[49m\u001B[38;5;241;43m.\u001B[39;49m\u001B[43mvalue\u001B[49m\u001B[43m)\u001B[49m\u001B[43m)\u001B[49m\n\u001B[1;32m     43\u001B[0m output\u001B[38;5;241m.\u001B[39mappend_stdout(\n\u001B[1;32m     44\u001B[0m     \u001B[38;5;124mf\u001B[39m\u001B[38;5;124m'\u001B[39m\u001B[38;5;124mPrevious: \u001B[39m\u001B[38;5;132;01m{\u001B[39;00mprevious_stat[\u001B[38;5;241m0\u001B[39m]\u001B[38;5;132;01m}\u001B[39;00m\u001B[38;5;124m \u001B[39m\u001B[38;5;130;01m\\n\u001B[39;00m\u001B[38;5;124m (\u001B[39m\u001B[38;5;132;01m{\u001B[39;00mprevious_stat[\u001B[38;5;241m1\u001B[39m]\u001B[38;5;132;01m}\u001B[39;00m\u001B[38;5;124m,\u001B[39m\u001B[38;5;132;01m{\u001B[39;00mprevious_stat[\u001B[38;5;241m2\u001B[39m]\u001B[38;5;132;01m}\u001B[39;00m\u001B[38;5;124m,\u001B[39m\u001B[38;5;132;01m{\u001B[39;00mprevious_stat[\u001B[38;5;241m3\u001B[39m]\u001B[38;5;132;01m}\u001B[39;00m\u001B[38;5;124m,\u001B[39m\u001B[38;5;132;01m{\u001B[39;00mprevious_stat[\u001B[38;5;241m4\u001B[39m]\u001B[38;5;132;01m}\u001B[39;00m\u001B[38;5;124m,\u001B[39m\u001B[38;5;132;01m{\u001B[39;00mprevious_stat[\u001B[38;5;241m5\u001B[39m]\u001B[38;5;132;01m}\u001B[39;00m\u001B[38;5;124m) \u001B[39m\u001B[38;5;130;01m\\n\u001B[39;00m\u001B[38;5;124m'\u001B[39m)\n\u001B[1;32m     45\u001B[0m current_stat \u001B[38;5;241m=\u001B[39m calculate_stats(clean_text(current\u001B[38;5;241m.\u001B[39mvalue))\n",
      "File \u001B[0;32m~/PycharmProjects/plus-explorer/ipynb/helpers.py:134\u001B[0m, in \u001B[0;36mcalculate_stats\u001B[0;34m(cleaned_text)\u001B[0m\n\u001B[1;32m    133\u001B[0m \u001B[38;5;28;01mdef\u001B[39;00m \u001B[38;5;21mcalculate_stats\u001B[39m(cleaned_text: \u001B[38;5;28mstr\u001B[39m):\n\u001B[0;32m--> 134\u001B[0m     \u001B[38;5;28;01mfrom\u001B[39;00m \u001B[38;5;21;01mtextstat\u001B[39;00m \u001B[38;5;28;01mimport\u001B[39;00m textstat\n\u001B[1;32m    135\u001B[0m     \u001B[38;5;28;01mreturn\u001B[39;00m (\n\u001B[1;32m    136\u001B[0m         cleaned_text,\n\u001B[1;32m    137\u001B[0m         textstat\u001B[38;5;241m.\u001B[39mflesch_reading_ease(cleaned_text),\n\u001B[0;32m   (...)\u001B[0m\n\u001B[1;32m    141\u001B[0m         textstat\u001B[38;5;241m.\u001B[39mlexicon_count(cleaned_text)\n\u001B[1;32m    142\u001B[0m     )\n",
      "\u001B[0;31mModuleNotFoundError\u001B[0m: No module named 'textstat'"
     ]
    }
   ],
   "source": [
    "import ipywidgets as widgets\n",
    "from ipywidgets import TwoByTwoLayout\n",
    "\n",
    "act_name = widgets.Text(description='Current name of Act')\n",
    "\n",
    "previous = widgets.Textarea(\n",
    "    placeholder='Cut and paste previous version of provision',\n",
    "    description='Pre 2020 Version'\n",
    ")\n",
    "current = widgets.Textarea(\n",
    "    placeholder='Cut and paste current version of provision',\n",
    "    description='2020 Version'\n",
    ")\n",
    "previous_link = widgets.Text(\n",
    "    placeholder='Link to Pre 2020 Version'\n",
    ")\n",
    "current_link = widgets.Text(\n",
    "    placeholder='Link to 2020 Version'\n",
    ")\n",
    "\n",
    "add_button = widgets.Button(description='Submit', icon='plus')\n",
    "\n",
    "output = widgets.Output(layout={'border': '1px solid black'})\n",
    "output_diff = widgets.Output(layout={'border': '1px solid black'})\n",
    "\n",
    "\n",
    "def validate_output():\n",
    "    if previous.value and previous_link.value and current.value and current_link.value:\n",
    "        return True\n",
    "    else:\n",
    "        with output:\n",
    "            print('All fields are required.')\n",
    "        return False\n",
    "\n",
    "\n",
    "def on_clicked(b):\n",
    "    output.clear_output()\n",
    "    output_diff.clear_output()\n",
    "    if validate_output():\n",
    "        from helpers import clean_text, calculate_stats\n",
    "        output.append_stdout(f'Processing: {act_name.value} \\n')\n",
    "        previous_stat = calculate_stats(clean_text(previous.value))\n",
    "        output.append_stdout(\n",
    "            f'Previous: {previous_stat[0]} \\n ({previous_stat[1]},{previous_stat[2]},{previous_stat[3]},{previous_stat[4]},{previous_stat[5]}) \\n')\n",
    "        current_stat = calculate_stats(clean_text(current.value))\n",
    "        output.append_stdout(\n",
    "            f'Current: {current_stat[0]} \\n ({current_stat[1]}, {current_stat[2]}, {current_stat[3]}, {current_stat[4]}, {current_stat[5]} ) \\n')\n",
    "\n",
    "        dataframe.loc[len(dataframe.index)] = [\n",
    "            act_name.value,\n",
    "            previous_stat[0], previous_link.value,\n",
    "            len(previous_stat[0]), previous_stat[1], previous_stat[2], previous_stat[3], previous_stat[4],\n",
    "            previous_stat[5],\n",
    "            current_stat[0], current_link.value,\n",
    "            len(current_stat[0]), current_stat[1], current_stat[2], current_stat[3], current_stat[4], current_stat[5]\n",
    "        ]\n",
    "\n",
    "        from IPython.display import display_markdown\n",
    "        from helpers import Redlines\n",
    "        diff = Redlines(previous_stat[0], current_stat[0])\n",
    "        with output_diff:\n",
    "            display_markdown(diff.output_markdown, raw=True)\n",
    "\n",
    "        output.append_stdout(f'Current number of records: {len(dataframe.index)} \\n')\n",
    "        previous.value = ''\n",
    "        current.value = ''\n",
    "        current_link.value = ''\n",
    "        previous_link.value = ''\n",
    "\n",
    "\n",
    "add_button.on_click(on_clicked)\n",
    "\n",
    "widgets.VBox([\n",
    "    act_name,\n",
    "    TwoByTwoLayout(top_left=previous, top_right=current, bottom_left=previous_link, bottom_right=current_link,\n",
    "                   width=\"50%\"),\n",
    "    add_button,\n",
    "    output,\n",
    "    output_diff\n",
    "])"
   ]
  },
  {
   "cell_type": "code",
   "execution_count": 6,
   "metadata": {
    "pycharm": {
     "name": "#%%\n"
    }
   },
   "outputs": [
    {
     "data": {
      "application/vnd.jupyter.widget-view+json": {
       "model_id": "0c4a3296c47649b8b3564435e340e623",
       "version_major": 2,
       "version_minor": 0
      },
      "text/plain": [
       "VBox(children=(Button(description='Download Data', icon='file', style=ButtonStyle()), Output()))"
      ]
     },
     "metadata": {},
     "output_type": "display_data"
    }
   ],
   "source": [
    "import ipywidgets as widgets\n",
    "\n",
    "\n",
    "def on_file_clicked(b):\n",
    "    dataframe.to_csv(\"data.csv.gz\", compression=\"gzip\", index=False)\n",
    "    with file_output:\n",
    "        from IPython.display import display, FileLink\n",
    "        display(FileLink(\"data.csv.gz\"))\n",
    "\n",
    "\n",
    "file_button = widgets.Button(description='Download Data', icon='file')\n",
    "file_button.on_click(on_file_clicked)\n",
    "file_output = widgets.Output()\n",
    "\n",
    "widgets.VBox([\n",
    "    file_button,\n",
    "    file_output\n",
    "])"
   ]
  },
  {
   "cell_type": "code",
   "execution_count": 3,
   "metadata": {},
   "outputs": [],
   "source": []
  }
 ],
 "metadata": {
  "kernelspec": {
   "display_name": "Python 3 (ipykernel)",
   "language": "python",
   "name": "python3"
  },
  "language_info": {
   "codemirror_mode": {
    "name": "ipython",
    "version": 3
   },
   "file_extension": ".py",
   "mimetype": "text/x-python",
   "name": "python",
   "nbconvert_exporter": "python",
   "pygments_lexer": "ipython3",
   "version": "3.9.9"
  }
 },
 "nbformat": 4,
 "nbformat_minor": 1
}